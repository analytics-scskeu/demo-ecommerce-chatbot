{
 "cells": [
  {
   "cell_type": "markdown",
   "metadata": {},
   "source": [
    "# E-Commerce Chatbot\n",
    "\n",
    "In the rapidly evolving world of e-commerce, providing exceptional customer service and personalized shopping experiences is crucial. One effective way to achieve this is through the integration of intelligent chatbots. However, building a chatbot that can effectively handle both structured and unstructured data is a complex challenge.\n",
    "\n",
    "To address this challenge, we employ a multi-step approach:\n",
    "- **Step 1: Data Filtering with LLM** - We use a Large Language Model (LLM) to pre-filter the data.\n",
    "- **Step 2: Relevant Data Extraction with RAG** - We implement the LLM in a Retrieval-Augmented Generation (RAG) architecture to identify the most relevant parts of the data and generate accurate responses.\n",
    "\n",
    "Experiments show that RAG on its own is not very accurate and often produces random answers. However, pre-filtering the data using an LLM results in more deterministic and consistent outcomes."
   ]
  },
  {
   "cell_type": "markdown",
   "metadata": {},
   "source": [
    "## Load and Pre-Process the Data"
   ]
  },
  {
   "cell_type": "markdown",
   "metadata": {},
   "source": [
    "### Imports"
   ]
  },
  {
   "cell_type": "code",
   "execution_count": 1,
   "metadata": {},
   "outputs": [],
   "source": [
    "import pandas as pd"
   ]
  },
  {
   "cell_type": "markdown",
   "metadata": {},
   "source": [
    "### Read the raw data\n",
    "\n",
    "Data Source: [Amazon Product Dataset 2020 - Kaggle](https://www.kaggle.com/datasets/promptcloud/amazon-product-dataset-2020?resource=download)\n"
   ]
  },
  {
   "cell_type": "code",
   "execution_count": 2,
   "metadata": {},
   "outputs": [
    {
     "name": "stderr",
     "output_type": "stream",
     "text": [
      "C:\\Users\\Amir.Tavakoli-Kashi\\AppData\\Local\\Temp\\ipykernel_35348\\2108840453.py:2: FutureWarning: Setting an item of incompatible dtype is deprecated and will raise an error in a future version of pandas. Value '' has dtype incompatible with float64, please explicitly cast to a compatible dtype first.\n",
      "  df.fillna(\"\", inplace=True)\n"
     ]
    },
    {
     "data": {
      "text/plain": [
       "Index(['Uniq Id', 'Product Name', 'Brand Name', 'Asin', 'Category',\n",
       "       'Upc Ean Code', 'List Price', 'Selling Price', 'Quantity',\n",
       "       'Model Number', 'About Product', 'Product Specification',\n",
       "       'Technical Details', 'Shipping Weight', 'Product Dimensions', 'Image',\n",
       "       'Variants', 'Sku', 'Product Url', 'Stock', 'Product Details',\n",
       "       'Dimensions', 'Color', 'Ingredients', 'Direction To Use',\n",
       "       'Is Amazon Seller', 'Size Quantity Variant', 'Product Description'],\n",
       "      dtype='object')"
      ]
     },
     "execution_count": 2,
     "metadata": {},
     "output_type": "execute_result"
    }
   ],
   "source": [
    "df = pd.read_csv(\"../data/raw/marketing_sample_for_amazon_com-ecommerce__20200101_20200131__10k_data.csv\")\n",
    "df.fillna(\"\", inplace=True)\n",
    "df.columns"
   ]
  },
  {
   "cell_type": "code",
   "execution_count": 3,
   "metadata": {},
   "outputs": [
    {
     "name": "stdout",
     "output_type": "stream",
     "text": [
      "Number of unique categories:  939\n"
     ]
    }
   ],
   "source": [
    "print(\"Number of unique categories: \", len(df[\"Category\"].unique()))"
   ]
  },
  {
   "cell_type": "markdown",
   "metadata": {},
   "source": [
    "### Copy the Raw Data"
   ]
  },
  {
   "cell_type": "code",
   "execution_count": 4,
   "metadata": {},
   "outputs": [],
   "source": [
    "df_processed = df.copy()"
   ]
  },
  {
   "cell_type": "markdown",
   "metadata": {},
   "source": [
    "### Extract the Main and Sub Categories"
   ]
  },
  {
   "cell_type": "code",
   "execution_count": 5,
   "metadata": {},
   "outputs": [
    {
     "name": "stdout",
     "output_type": "stream",
     "text": [
      "Unique values in Cat 1:  24\n",
      "Unique values in Cat 2:  108\n",
      "Unique values in Cat 3:  321\n"
     ]
    }
   ],
   "source": [
    "df_processed[\"cat-1\"] = df_processed[\"Category\"].apply(lambda x: x.split(\"|\")[0].strip() if len(x.split(\"|\"))>=1 else \"\")\n",
    "df_processed[\"cat-2\"] = df_processed[\"Category\"].apply(lambda x: x.split(\"|\")[1].strip() if len(x.split(\"|\"))>=2 else \"\")\n",
    "df_processed[\"cat-3\"] = df_processed[\"Category\"].apply(lambda x: x.split(\"|\")[2].strip() if len(x.split(\"|\"))>=3 else \"\")\n",
    "\n",
    "print(\"Unique values in Cat 1: \", len(df_processed[\"cat-1\"].unique()))\n",
    "print(\"Unique values in Cat 2: \", len(df_processed[\"cat-2\"].unique()))\n",
    "print(\"Unique values in Cat 3: \", len(df_processed[\"cat-3\"].unique()))"
   ]
  },
  {
   "cell_type": "markdown",
   "metadata": {},
   "source": [
    "### Merge Columns with Text Contents to `page_content_column`"
   ]
  },
  {
   "cell_type": "code",
   "execution_count": 6,
   "metadata": {},
   "outputs": [],
   "source": [
    "df_processed[\"page_content_column\"] = df_processed.apply(\n",
    "    lambda x: \"\\n\\n\".join(\n",
    "        [\n",
    "            col_name + \": \" + x[col_name] for col_name in \n",
    "            [\"Product Name\", \"About Product\", \"Product Specification\", \n",
    "             \"Technical Details\",\"Selling Price\", \"Shipping Weight\", \n",
    "             \"Product Dimensions\", \"Product Url\"]\n",
    "        ]\n",
    "    ),\n",
    "    axis=1\n",
    ")"
   ]
  },
  {
   "cell_type": "markdown",
   "metadata": {},
   "source": [
    "### Filter Columns"
   ]
  },
  {
   "cell_type": "code",
   "execution_count": 7,
   "metadata": {},
   "outputs": [],
   "source": [
    "df_processed = df_processed[\n",
    "    [\"page_content_column\", \"Image\", \"Product Url\", \"cat-1\", \"cat-2\", \"cat-3\"]\n",
    "]"
   ]
  },
  {
   "cell_type": "markdown",
   "metadata": {},
   "source": [
    "### Save Precessed Dataframe"
   ]
  },
  {
   "cell_type": "code",
   "execution_count": 8,
   "metadata": {},
   "outputs": [],
   "source": [
    "df_processed.to_csv(\"../data/processed/amazon.csv\", index=False)"
   ]
  },
  {
   "cell_type": "markdown",
   "metadata": {},
   "source": [
    "## Chat with Data"
   ]
  },
  {
   "cell_type": "markdown",
   "metadata": {},
   "source": [
    "### Imports"
   ]
  },
  {
   "cell_type": "code",
   "execution_count": 9,
   "metadata": {},
   "outputs": [],
   "source": [
    "import pandas as pd\n",
    "\n",
    "from decouple import config\n",
    "from IPython.display import Markdown, display\n",
    "from langchain.chains.combine_documents import create_stuff_documents_chain\n",
    "from langchain_community.document_loaders import DataFrameLoader\n",
    "from langchain_community.vectorstores import FAISS\n",
    "from langchain_core.prompts import ChatPromptTemplate\n",
    "from langchain_openai import OpenAIEmbeddings, ChatOpenAI\n",
    "from pprint import pprint"
   ]
  },
  {
   "cell_type": "code",
   "execution_count": 10,
   "metadata": {},
   "outputs": [],
   "source": [
    "OPENAI_API_KEY = \"YOUR_API_KEY\" # or config(\"OPENAI_API_KEY\")"
   ]
  },
  {
   "cell_type": "markdown",
   "metadata": {},
   "source": [
    "### Load the Processed Data"
   ]
  },
  {
   "cell_type": "code",
   "execution_count": 11,
   "metadata": {},
   "outputs": [],
   "source": [
    "df_processed = pd.read_csv(\"../data/processed/amazon.csv\")"
   ]
  },
  {
   "cell_type": "markdown",
   "metadata": {},
   "source": [
    "### Define LLM clients"
   ]
  },
  {
   "cell_type": "code",
   "execution_count": 12,
   "metadata": {},
   "outputs": [],
   "source": [
    "llm_client = ChatOpenAI(\n",
    "    model=\"gpt-4o-mini\",\n",
    "    openai_api_key=OPENAI_API_KEY,\n",
    "    temperature=0,\n",
    ")\n",
    "\n",
    "embd_client = OpenAIEmbeddings(openai_api_key=OPENAI_API_KEY)"
   ]
  },
  {
   "cell_type": "code",
   "execution_count": 13,
   "metadata": {},
   "outputs": [
    {
     "name": "stdout",
     "output_type": "stream",
     "text": [
      "('Kashan is a city located in the Isfahan Province of Iran. It is situated in '\n",
      " 'the central part of the country, approximately 250 kilometers (about 155 '\n",
      " 'miles) south of Tehran, the capital of Iran. Kashan is known for its '\n",
      " 'historical architecture, traditional Persian gardens, and significant '\n",
      " 'cultural heritage, including beautiful mosques, ancient houses, and the '\n",
      " 'famous Fin Garden. The city has a rich history that dates back to ancient '\n",
      " 'times and is often associated with the production of carpets and textiles.')\n"
     ]
    }
   ],
   "source": [
    "# Example\n",
    "response = llm_client.invoke(\"Where is Kashan?\")\n",
    "pprint(response.content)"
   ]
  },
  {
   "cell_type": "markdown",
   "metadata": {},
   "source": [
    "### Ask Your Question"
   ]
  },
  {
   "cell_type": "code",
   "execution_count": 14,
   "metadata": {},
   "outputs": [],
   "source": [
    "question = \"I am looking for a set of tables and chair for my garden for 6-8 people. Can you help me with that?\"\n",
    "question = \"Do you have a bike for my 3 year old son?\""
   ]
  },
  {
   "cell_type": "markdown",
   "metadata": {},
   "source": [
    "### Step1: Filter the Data based on the Question using LLLM"
   ]
  },
  {
   "cell_type": "code",
   "execution_count": 15,
   "metadata": {},
   "outputs": [
    {
     "name": "stdout",
     "output_type": "stream",
     "text": [
      "Related Categories at Level 1: ['Toys & Games', 'Baby Products']\n",
      "No. of records:  6876\n",
      "Related Categories at Level 2: ['Tricycles, Scooters & Wagons', 'Sports & Outdoor Play']\n",
      "No. of records:  476\n",
      "Related Categories at Level 3: ['Balance Bikes', 'Ride-On Toys & Accessories']\n",
      "No. of records:  48\n"
     ]
    }
   ],
   "source": [
    "df_filtered = df_processed.copy()\n",
    "\n",
    "for cat_no in [1,2,3]:\n",
    "    # Get unique categories\n",
    "    categories = df_filtered[f\"cat-{cat_no}\"].unique().tolist()\n",
    "\n",
    "    # Make the query\n",
    "    query = (\n",
    "        f\"Given the user question and the \"\n",
    "        f\"following list of product categories, identify the categories from \"\n",
    "        f\"the list that most closely matches the user's intended product. \"\n",
    "        f\"If the user input is not close to any of the ctegories, \"\n",
    "        f\"return 'NOT_AVAILABLE'. Provide only the full category name \"\n",
    "        f\"from the list of the categories separated by '|'.\\n\\n\"\n",
    "        f\"user input: '{question}'\\n\\n\"\n",
    "        f\"Product Categories: {categories}\"\n",
    "    )\n",
    "\n",
    "    # Get the response\n",
    "    response = llm_client.invoke(query)\n",
    "    print(f\"Related Categories at Level {cat_no}: {response.content.split('|')}\")\n",
    "\n",
    "    # Filter the dataframe\n",
    "    df_filtered = df_filtered[\n",
    "        df_filtered[f\"cat-{cat_no}\"].isin(response.content.split(\"|\"))\n",
    "    ]\n",
    "    print(f\"No. of records:  {df_filtered.shape[0]}\")"
   ]
  },
  {
   "cell_type": "markdown",
   "metadata": {},
   "source": [
    "### Step 2: Make a Retriever with the Filtered Data"
   ]
  },
  {
   "cell_type": "code",
   "execution_count": 16,
   "metadata": {},
   "outputs": [
    {
     "name": "stdout",
     "output_type": "stream",
     "text": [
      "No. of documents:  48\n"
     ]
    }
   ],
   "source": [
    "loader = DataFrameLoader(\n",
    "    df_filtered, \n",
    "    page_content_column=\"page_content_column\"\n",
    ")\n",
    "docs = loader.load()\n",
    "print(\"No. of documents: \", len(docs))"
   ]
  },
  {
   "cell_type": "code",
   "execution_count": 17,
   "metadata": {},
   "outputs": [],
   "source": [
    "vectorstore = FAISS.from_documents(\n",
    "    documents=docs,\n",
    "    embedding=embd_client,\n",
    ")\n",
    "retriever = vectorstore.as_retriever()"
   ]
  },
  {
   "cell_type": "markdown",
   "metadata": {},
   "source": [
    "### Finding Relevant Docs (to be used as context)"
   ]
  },
  {
   "cell_type": "code",
   "execution_count": 18,
   "metadata": {},
   "outputs": [],
   "source": [
    "relevant_docs = retriever.invoke(question, top_k=10)"
   ]
  },
  {
   "cell_type": "markdown",
   "metadata": {},
   "source": [
    "### Create the Document Chain"
   ]
  },
  {
   "cell_type": "code",
   "execution_count": 19,
   "metadata": {},
   "outputs": [],
   "source": [
    "## Document Chain\n",
    "prompt = ChatPromptTemplate.from_template(\n",
    "    \"You are **Amazon Assistant**, an adviser for Amazon products. \\n\\n\"\n",
    "    \"Answer the following question based on the provided context. \"\n",
    "    \"If the answer is not in the context, avoid being apologetic. \"\n",
    "    \"Instead, ask the user for more specific information or \"\n",
    "    \"suggest next steps they can take. \"\n",
    "    \"Provide your response confidently and clearly.\\n\\n\"\n",
    "    \"Alaways provide the full product name, product URL and price in your response.\\n\\n\"\n",
    "    \"<context>\\n{context}\\n</context>\\n\\n\"\n",
    "    \"Question: {input}\"\n",
    ")\n",
    "\n",
    "document_chain = create_stuff_documents_chain(llm_client, prompt)"
   ]
  },
  {
   "cell_type": "markdown",
   "metadata": {},
   "source": [
    "### Answer the Question"
   ]
  },
  {
   "cell_type": "code",
   "execution_count": 20,
   "metadata": {},
   "outputs": [
    {
     "data": {
      "text/markdown": [
       "Yes, I recommend the **FirstBIKE Limited Bike with Brake, Yellow**. It's designed for children aged 24 months to 5 years, making it suitable for your 3-year-old son. This balance bike features a lightweight frame, a child-friendly rear drum brake, and a unique design that helps develop balance and motor skills.\n",
       "\n",
       "- **Product Name:** FirstBIKE Limited Bike with Brake, Yellow\n",
       "- **Product URL:** [FirstBIKE Limited Bike with Brake, Yellow](https://www.amazon.com/FirstBIKE-Limited-Bike-Brake-Yellow/dp/B0716JNHBX)\n",
       "- **Price:** $130.03\n",
       "\n",
       "If you need more options or specific features, let me know!"
      ],
      "text/plain": [
       "<IPython.core.display.Markdown object>"
      ]
     },
     "metadata": {},
     "output_type": "display_data"
    }
   ],
   "source": [
    "answer = document_chain.invoke({\"context\": relevant_docs, \"input\": question})\n",
    "display(Markdown(answer))"
   ]
  },
  {
   "cell_type": "code",
   "execution_count": null,
   "metadata": {},
   "outputs": [],
   "source": []
  }
 ],
 "metadata": {
  "kernelspec": {
   "display_name": ".venv",
   "language": "python",
   "name": "python3"
  },
  "language_info": {
   "codemirror_mode": {
    "name": "ipython",
    "version": 3
   },
   "file_extension": ".py",
   "mimetype": "text/x-python",
   "name": "python",
   "nbconvert_exporter": "python",
   "pygments_lexer": "ipython3",
   "version": "3.11.4"
  }
 },
 "nbformat": 4,
 "nbformat_minor": 2
}
